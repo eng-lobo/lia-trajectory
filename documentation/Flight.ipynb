{
 "cells": [
  {
   "cell_type": "markdown",
   "metadata": {},
   "source": [
    "**fnc.py - Flight block**\n",
    "\n",
    "The goal of this file is explaining how each and every function contained within the Flight block of the fnc.py file works. The source for each physical equation implemented is provided, in addition to further explanations on what assumptions these models work under.\n",
    "       "
   ]
  },
  {
   "cell_type": "code",
   "execution_count": 2,
   "metadata": {},
   "outputs": [],
   "source": [
    "#%% Script information\n",
    "# Name: fnc.py\n",
    "# Authors: Trajectory Team (Matias Pellegrini, Pablo Lobo)\n",
    "# Owner: LIA Aerospace\n",
    "#\n",
    "#%% Script description\n",
    "#\n",
    "# The aim of this module is defining functions to be used in the simulation.\n",
    "#\n",
    "#%% Packages\n",
    "import numpy as np\n",
    "import c as c\n",
    "\n",
    "#%% Flight\n",
    "\n",
    "# This block implements the different functions required for the\n",
    "# simulation.py file to be able to simulate the flight of the launch \n",
    "# vehicle. Functions' assumptions and sources are documented in detail\n",
    "# the Flight (Jupyter Notebook) document."
   ]
  },
  {
   "cell_type": "markdown",
   "metadata": {},
   "source": [
    "**Function #1: mach**\n",
    "\n",
    "The aim of this function is to calculate the local Mach number at the instant of interest.\n",
    "\n",
    "This equation is straight-forward and can be found in multiple sources exactly in the same way. What is of interest however is the impact of the different effects that appear depending on its magnitude. These are:\n",
    "\n",
    "* Ma < 0.3: *Incompressible flow*, where density effects are negligible.\n",
    "* 0.3 < Ma < 0.8: *Subsonic flow*, where density effects are important but no shock waves appear.\n",
    "* 0.8 < Ma < 1.2: *Transonic flow*, where shock waves first appear, dividing subsonic and supersonic regions of the flow. \n",
    "* 1.2 < Ma < 3.0: *Supersonic flow*, where shock waves are present but there are no subsonic regions.\n",
    "* 3.0 < Ma: *Hypersonic flow*, where shock waves and other flow changes are especially strong.\n",
    "\n",
    "Taken from *Fluid Mechanics*, White F., McGraw Hill."
   ]
  },
  {
   "cell_type": "code",
   "execution_count": 3,
   "metadata": {},
   "outputs": [],
   "source": [
    "def mach(V,Vs):\n",
    "    # === INPUTS ===\n",
    "    # V [m/s]        Local flow velocity \n",
    "    # Vs [m/s]       Speed of sound in the medium at the local temperature\n",
    "    # === OUTPUTS ===\n",
    "    # M [adim]       Local Mach Number\n",
    "    M = V/Vs         # [adim] - Local Mach Number\n",
    "    return M"
   ]
  },
  {
   "cell_type": "markdown",
   "metadata": {},
   "source": [
    "**Function #2: re**\n",
    "\n",
    "The aim of this function is to calculate the local Reynolds number at the instant of interest.\n",
    "\n",
    "This equation is straight-forward and can be found in multiple sources exactly in the same form. What is of interest is how to choose the characteristic length, named L, for the vehicle at hand. Either the diameter or the length of the vehicle might be used. This is yet to be defined."
   ]
  },
  {
   "cell_type": "code",
   "execution_count": 4,
   "metadata": {},
   "outputs": [],
   "source": [
    "def re(V,kvisc,L):\n",
    "    # === INPUTS ===\n",
    "    # V [m/s]                   Local flow velocity    \n",
    "    # kvisc [m^2/s]             Kinematic Viscosity\n",
    "    # L [m]                     Characteristic length\n",
    "    # === OUTPUTS ===\n",
    "    # re [adim]                 Local Reynolds Number\n",
    "    re = V * L / kvisc   # [adim] - Local Reynolds Number\n",
    "    return re"
   ]
  },
  {
   "cell_type": "markdown",
   "metadata": {},
   "source": [
    "**Function #3: thrust**\n",
    "\n",
    "The aim of this function is to calculate the generated thrust at the instant of interest. \n",
    "\n",
    "This equation was taken from *Introduction to Rocket Science and Engineering*, Taylor T., CRC Press. Eq. (3.6)\n",
    "\n",
    "$$ F_{thrust} = \\dot{m} v_{e} +  \\left( P_{e} - P_{o} \\right) A_{e} $$\n"
   ]
  },
  {
   "cell_type": "code",
   "execution_count": 6,
   "metadata": {},
   "outputs": [],
   "source": [
    "def thrust(m_dot,Ve,Pe,Po):\n",
    "    # === INPUTS ===\n",
    "    # m_dot [kg/s]              Mass flow of propellant being expelled\n",
    "    # Ve [m/s]                  Exhaust velocity of the gases\n",
    "    # Pe [N/m^2]                Exhaust pressure\n",
    "    # Po [N/m^2]                Pressure outside the nozzle\n",
    "    # === OUTPUTS ===\n",
    "    # thrust [N]                Thrust\n",
    "    # === CONSTANTS ===\n",
    "    # c.Ae [m^2]                Nozzle exit surface\n",
    "    thrust = m_dot*Ve + (Pe - Po)*c.Ae   "
   ]
  },
  {
   "cell_type": "code",
   "execution_count": null,
   "metadata": {},
   "outputs": [],
   "source": []
  }
 ],
 "metadata": {
  "kernelspec": {
   "display_name": "Python 3",
   "language": "python",
   "name": "python3"
  },
  "language_info": {
   "codemirror_mode": {
    "name": "ipython",
    "version": 3
   },
   "file_extension": ".py",
   "mimetype": "text/x-python",
   "name": "python",
   "nbconvert_exporter": "python",
   "pygments_lexer": "ipython3",
   "version": "3.7.6"
  }
 },
 "nbformat": 4,
 "nbformat_minor": 4
}
