{
 "cells": [
  {
   "cell_type": "markdown",
   "metadata": {},
   "source": [
    "**fnc.py - Coordinate Systems block**\n",
    "\n",
    "The goal of this file is explaining each step that was taken towards implementing all the transformation matrices. "
   ]
  },
  {
   "cell_type": "code",
   "execution_count": 10,
   "metadata": {},
   "outputs": [],
   "source": [
    "#%% Script information\n",
    "# Name: fnc.py\n",
    "# Authors: Trajectory Team (Matias Pellegrini, Pablo Lobo)\n",
    "# Owner: LIA Aerospace\n",
    "#\n",
    "#%% Script description\n",
    "#\n",
    "# The aim of this module is defining functions to be used in the simulation.\n",
    "#\n",
    "#%% Packages\n",
    "import numpy as np\n",
    "import c as c\n",
    "\n",
    "#%% Coordinate Systems\n",
    "\n",
    "# This block implements the different functions required to transform\n",
    "# the different tensors from one coordinate system to another.\n",
    "# Source: Zipfel."
   ]
  },
  {
   "cell_type": "markdown",
   "metadata": {},
   "source": [
    "**Function: Tge**\n",
    "\n",
    "The aim of this function is to calculate the transformation matrix between the geographical and Earth coordinate systems. "
   ]
  },
  {
   "cell_type": "code",
   "execution_count": 11,
   "metadata": {},
   "outputs": [],
   "source": [
    "def Tge(long,lat):\n",
    "    # Zipfel (3.13)\n",
    "    # === INPUTS ===\n",
    "    # long [rad]              longitude\n",
    "    # lat [rad]               Latitude\n",
    "    # === OUTPUTS ===\n",
    "    # tge [3x3 mat]           T_GE\n",
    "    # Create the basic values\n",
    "    slon = np.sin(long)\n",
    "    clon = np.cos(long)\n",
    "    slat = np.sin(lat)\n",
    "    clat = np.cos(lat)\n",
    "    # Create 9 positions\n",
    "    ind11 = -slat*clon; \n",
    "    ind12 = -slat*slon\n",
    "    ind13 = clat\n",
    "    ind21 = -slon\n",
    "    ind22 = clat\n",
    "    ind23 = 0\n",
    "    ind31 = -clat*clon\n",
    "    ind32 = -clat*slon\n",
    "    ind33 = -slon\n",
    "    # Create the matrix itself\n",
    "    tge = np.array([[ind11, ind12, ind13],[ind21, ind22, ind23],[ind31, ind32, ind33]])  \n",
    "    return tge"
   ]
  },
  {
   "cell_type": "markdown",
   "metadata": {},
   "source": [
    "**Function: Tei**\n",
    "\n",
    "The aim of this function is to calculate the transformation matrix between the Earth and inertial coordinate systems.  "
   ]
  },
  {
   "cell_type": "code",
   "execution_count": 12,
   "metadata": {},
   "outputs": [],
   "source": [
    "def Tei(hangle):\n",
    "    # Zipfel (3.12)\n",
    "    # === INPUTS ===\n",
    "    # hangle [rad]            Hour angle\n",
    "    # === OUTPUTS ===\n",
    "    # tei [3x3 mat]           T_EI\n",
    "    # Create the basic values\n",
    "    sha = np.sin(hangle)\n",
    "    cha = np.cos(hangle)\n",
    "    # Create 9 positions\n",
    "    ind11 = cha\n",
    "    ind12 = sha\n",
    "    ind13 = 0\n",
    "    ind21 = -sha\n",
    "    ind22 = cha\n",
    "    ind23 = 0\n",
    "    ind31 = 0\n",
    "    ind32 = 0\n",
    "    ind33 = 1\n",
    "    # Create the matrix itself\n",
    "    tei = np.array([[ind11, ind12, ind13],[ind21, ind22, ind23],[ind31, ind32, ind33]])  \n",
    "    return tei"
   ]
  },
  {
   "cell_type": "markdown",
   "metadata": {},
   "source": [
    "**Function: Tmv**\n",
    "\n",
    "The aim of this function is to calculate the transformation matrix between the load factor and velocity coordinate systems. "
   ]
  },
  {
   "cell_type": "code",
   "execution_count": 13,
   "metadata": {},
   "outputs": [],
   "source": [
    "def Tmv(bang):\n",
    "    # Zipfel (8.22)\n",
    "    # === INPUTS ===\n",
    "    # bang [rad]              Bank Angle\n",
    "    # === OUTPUTS ===\n",
    "    # tmv [3x3 mat]           T_MV\n",
    "    # Create the basic values\n",
    "    sba = np.sin(bang)\n",
    "    cba = np.cos(bang)\n",
    "    # Create 9 positions\n",
    "    ind11 = 1 \n",
    "    ind12 = 0\n",
    "    ind13 = 0\n",
    "    ind21 = 0\n",
    "    ind22 = -cba\n",
    "    ind23 = sba\n",
    "    ind31 = 0\n",
    "    ind32 = -sba\n",
    "    ind33 = cba\n",
    "    # Create the matrix itself\n",
    "    tmv = np.array([[ind11, ind12, ind13],[ind21, ind22, ind23],[ind31, ind32, ind33]])  \n",
    "    return tmv"
   ]
  },
  {
   "cell_type": "markdown",
   "metadata": {},
   "source": [
    "**Function: Tvg**\n",
    "\n",
    "The aim of this function is to calculate the transformation matrix between the flight path and geographic coordinate systems. "
   ]
  },
  {
   "cell_type": "code",
   "execution_count": 14,
   "metadata": {},
   "outputs": [],
   "source": [
    "def Tvg(gamma,chi):\n",
    "    # Zipfel (3.25)\n",
    "    # === INPUTS ===\n",
    "    # gamma [rad]              Heading Angle\n",
    "    # chi [rad]                Flight Path Angle\n",
    "    # === OUTPUTS ===\n",
    "    # tvg [3x3 mat]            T_VG\n",
    "    # Create the basic values\n",
    "    schi = np.sin(chi)\n",
    "    cchi = np.cos(chi)\n",
    "    sgamma = np.sin(gamma)\n",
    "    cgamma = np.cos(gamma)\n",
    "    # Create 9 positions\n",
    "    ind11 = cchi*cgamma \n",
    "    ind12 = cgamma*schi\n",
    "    ind13 = -sgamma\n",
    "    ind21 = -schi\n",
    "    ind22 = -cchi\n",
    "    ind23 = 0\n",
    "    ind31 = sgamma*cchi\n",
    "    ind32 = sgamma*schi\n",
    "    ind33 = cchi\n",
    "    # Create the matrix itself\n",
    "    tvg = np.array([[ind11, ind12, ind13],[ind21, ind22, ind23],[ind31, ind32, ind33]])  \n",
    "    return tvg"
   ]
  },
  {
   "cell_type": "markdown",
   "metadata": {},
   "source": [
    "**Function: JD**\n",
    "\n",
    "The aim of this function is to calculate the Julian Date. Source: Vallado, Algorithm #14.\n",
    "\n",
    "Unless specified, JD usually implies a time based on UT1. Equation valid from years 1900 to 2100."
   ]
  },
  {
   "cell_type": "code",
   "execution_count": 15,
   "metadata": {},
   "outputs": [],
   "source": [
    "def JD(yr,mo,d,h,min,s):\n",
    "    # === INPUTS ===\n",
    "    # yr [adim]                Year of interest\n",
    "    # mo [adim]                Month of interest (1 to 12)\n",
    "    # d [adim]                 Day of interest (1 to 31)\n",
    "    # h [adim]                 Hour of interest (0 to 23)\n",
    "    # min [adim]               Min of interest (0 to 59)\n",
    "    # s [adim]                 Seconds of interest (0 to 59)\n",
    "    # === OUTPUTS ===\n",
    "    # jdate [adim]             Julian Date\n",
    "    # Function\n",
    "    jdate = 367*yr - int((7*(yr+int((mo+9)/12)))/4) + int((275*mo)/9) + d + 1721013.5 + ((((s/60)+min)/60) + h)/24\n",
    "    return jdate"
   ]
  },
  {
   "cell_type": "markdown",
   "metadata": {},
   "source": [
    "**Function: jd2tjd**\n",
    "\n",
    "The aim of this function is to calculate the number of Julian centuries elapsed from the epoch J2000.0. Source: Vallado, Eq. (3.42)\n",
    "\n",
    "Equation valid for epoch J2000.0, see p.183 for other epochs."
   ]
  },
  {
   "cell_type": "code",
   "execution_count": 16,
   "metadata": {},
   "outputs": [],
   "source": [
    "def jd2tjd(jdate):\n",
    "    # === INPUTS ===\n",
    "    # jdate [julian date]     Julian date, as provided by function JD\n",
    "    # === OUTPUTS ===\n",
    "    # Function\n",
    "    # tjdate [centuries]      Julian centuries elapsed since J2000.0 epoch\n",
    "    tjdate = (jdate - 2451545)/36525\n",
    "    return tjdate"
   ]
  },
  {
   "cell_type": "markdown",
   "metadata": {},
   "source": [
    "**Function: tjd2gmst**\n",
    "\n",
    "The aim of this function is to calculate the Greenwich Mean Sidereal Time given the number of Julian centuries elapsed from the epoch J2000.0. Source: Vallado, Eq. (3.47)"
   ]
  },
  {
   "cell_type": "code",
   "execution_count": 17,
   "metadata": {},
   "outputs": [],
   "source": [
    "def tjd2gmst(tjdate):\n",
    "    # === INPUTS ===\n",
    "    # tjdate [centuries]      Julian centuries elapsed since J2000.0 epoch\n",
    "    # === OUTPUTS ===\n",
    "    # gmst_s [s]              GMST in seconds\n",
    "    # gmst_d [°]              GMST in degrees\n",
    "    # Function\n",
    "    gmst_s = 67310.54841 + (876600*3600 + 8640184.812866)*tjdate + 0.093104*tjdate**2 - 6.2*10**-6* (tjdate**3)\n",
    "    # Reduce this quantity to a result within the range of 86400s\n",
    "    secs_day = 86400\n",
    "    gmst_aux = gmst_s % secs_day\n",
    "    # Convert to degrees\n",
    "    gmst_d = gmst_aux / 240\n",
    "    # Convert to an angle in the 0-360 range\n",
    "    if gmst_d < 0:\n",
    "        gmst_d += 360   \n",
    "    return gmst_s, gmst_d"
   ]
  },
  {
   "cell_type": "markdown",
   "metadata": {},
   "source": [
    "**Function: date_now**\n",
    "\n",
    "The aim of this function is to return the date at time of invoking it."
   ]
  },
  {
   "cell_type": "code",
   "execution_count": 18,
   "metadata": {},
   "outputs": [],
   "source": [
    "def date_now():\n",
    "    # === INPUTS ===\n",
    "    # \n",
    "    # === OUTPUTS ===\n",
    "    # date_out [datetime]        Date at time of function invoking\n",
    "    # Function\n",
    "    from datetime import datetime\n",
    "    date = datetime.now()\n",
    "    return date"
   ]
  },
  {
   "cell_type": "markdown",
   "metadata": {},
   "source": [
    "**Function: date_parts**\n",
    "\n",
    "The aim of this function is to return the different values stored in the input datetime value."
   ]
  },
  {
   "cell_type": "code",
   "execution_count": 19,
   "metadata": {},
   "outputs": [],
   "source": [
    "def date_parts(date_in):\n",
    "    # === INPUTS ===\n",
    "    # date_in [datetime]       Input date\n",
    "    # === OUTPUTS ===\n",
    "    # yr [int]                 Year on input date\n",
    "    # m [int]                  Month on input date\n",
    "    # d [int]                  Day on input date\n",
    "    # h [int]                  Hour on input date\n",
    "    # m [int]                  Minute on input date\n",
    "    # s [int]                  Second on input date\n",
    "    yr = date_in.year\n",
    "    mo = date_in.month\n",
    "    d = date_in.day\n",
    "    h = date_in.hour\n",
    "    m = date_in.minute\n",
    "    s = date_in.second\n",
    "    return yr, mo, d, h, m, s"
   ]
  },
  {
   "cell_type": "markdown",
   "metadata": {},
   "source": [
    "Function: add_timestep\n",
    "\n",
    "The aim of this function is to add a given timestep to a given date."
   ]
  },
  {
   "cell_type": "code",
   "execution_count": 20,
   "metadata": {},
   "outputs": [],
   "source": [
    "def add_timestep(date,timestep):\n",
    "    # === INPUTS ===\n",
    "    # date [datetime]       Initial time\n",
    "    # timestep [timedelta]  Timestep to be added\n",
    "    # === OUTPUTS ===\n",
    "    # date_out [datetime]   Final time\n",
    "    # Function\n",
    "    date_out = date + timestep\n",
    "    return date_out"
   ]
  }
 ],
 "metadata": {
  "kernelspec": {
   "display_name": "Python 3",
   "language": "python",
   "name": "python3"
  },
  "language_info": {
   "codemirror_mode": {
    "name": "ipython",
    "version": 3
   },
   "file_extension": ".py",
   "mimetype": "text/x-python",
   "name": "python",
   "nbconvert_exporter": "python",
   "pygments_lexer": "ipython3",
   "version": "3.7.6"
  }
 },
 "nbformat": 4,
 "nbformat_minor": 4
}
