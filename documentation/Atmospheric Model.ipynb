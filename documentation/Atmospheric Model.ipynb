{
 "cells": [
  {
   "cell_type": "markdown",
   "metadata": {},
   "source": [
    "**fnc.py - Atmospheric Model block**\n",
    "\n",
    "The goal of this file is explaining each step that was taken towards implementing the US Standard Atmosphere 1976 in Python. In addition, the script written for testing is shown and detailed.\n",
    "       "
   ]
  },
  {
   "cell_type": "code",
   "execution_count": 1,
   "metadata": {},
   "outputs": [],
   "source": [
    "#%% Script information\n",
    "# Name: fnc.py\n",
    "# Authors: Trajectory Team (Matias Pellegrini, Pablo Lobo)\n",
    "# Owner: LIA Aerospace\n",
    "#\n",
    "#%% Script description\n",
    "#\n",
    "# The aim of this module is defining functions to be used in the simulation.\n",
    "#\n",
    "#%% Packages\n",
    "import numpy as np\n",
    "import c as c\n",
    "\n",
    "#%% Atmospheric properties\n",
    "\n",
    "# This block implements the US Standard Atmosphere 1976 model.\n",
    "# As of 24Aug2020, only the 0-76km portion of the model is implemented."
   ]
  },
  {
   "cell_type": "markdown",
   "metadata": {},
   "source": [
    "**Function #1: layer**\n",
    "\n",
    "The aim of this function is to define which layer the vehicle is currently flying through. The implementation of this is based on Table 4 of the original document."
   ]
  },
  {
   "cell_type": "code",
   "execution_count": 2,
   "metadata": {},
   "outputs": [],
   "source": [
    "def layer(H: float)->float: \n",
    "    # === INPUTS ===\n",
    "    # H [m'] - Geopotential height\n",
    "    # === OUTPUTS === \n",
    "    # b [adim] - Subscript of the layer\n",
    "    #\n",
    "    # Input control\n",
    "    try:\n",
    "        int(H)\n",
    "    except ValueError:\n",
    "        try:\n",
    "            float(H)\n",
    "        except ValueError:\n",
    "            print(\"Fn: layer. Input must be a number.\")\n",
    "            return\n",
    "    # Cases\n",
    "    if H>=0 and H<11000:\n",
    "        b = 0\n",
    "    elif H>=11000 and H<20000:    \n",
    "        b = 1\n",
    "    elif H>=20000 and H<32000:\n",
    "        b = 2\n",
    "    elif H>=32000 and H<47000:\n",
    "        b = 3\n",
    "    elif H>=47000 and H<51000:\n",
    "        b = 4\n",
    "    elif H>=51000 and H<71000:\n",
    "        b = 5  \n",
    "    elif H>=71000 and H<84852:\n",
    "        b = 6\n",
    "    elif H==84852:\n",
    "        b = 7\n",
    "    else: \n",
    "        print('Fn: Layer. H must be a value between 0 and 84852m')\n",
    "        b = 'Error - Check H'\n",
    "        return\n",
    "    return b "
   ]
  },
  {
   "cell_type": "markdown",
   "metadata": {},
   "source": [
    "**Function #2: table4**\n",
    "\n",
    "The aim of this function is to define the constants provided by Table 4 given the current geometrical height at which the vehicle is. \n",
    "\n",
    "In this case, some steps of the calculation process need to be detailed due to not being explicit in the original document. This is the case for the calculation of the multiple constant values atributed to Tmb and Pb for each layer of the atmosphere."
   ]
  },
  {
   "cell_type": "code",
   "execution_count": 3,
   "metadata": {},
   "outputs": [],
   "source": [
    "def table4(Z: float):\n",
    "    # === INPUTS ===\n",
    "    # Z [m] - Geometric height\n",
    "    # === OUTPUTS === \n",
    "    # b [adim]      Subscript of the layer\n",
    "    # Lmb [K/km']   Molecular-scale temperature gradient (Table 4)\n",
    "    # Tmb [K]       Temperature constant\n",
    "    # Hb [km']      Geopotential Height of the layer    (Table 4)\n",
    "    # H [km']       Geopotential Height of the vehicle\n",
    "    # Pb [N/m^2]    Pressure constant \n",
    "    # Input control\n",
    "    try:\n",
    "        int(Z)\n",
    "    except ValueError:\n",
    "        try:\n",
    "            float(Z)\n",
    "        except ValueError:\n",
    "            print(\"Fn: table4. Input must be a number.\")\n",
    "            return\n",
    "    # The layer is defined.\n",
    "    ro = 6356.766 * 10**3      # [m] - Earth's radius - (Page 4)\n",
    "    H = (Z*ro) / (ro + Z)      # [m'] - Geopotential height of the vehicle\n",
    "    b = layer(H)               # [adim] - Subscript of the layer\n",
    "    # Verifying b\n",
    "    if b==None:\n",
    "        print('Fn: table4. Z must be a value between 0m and 85999m.')\n",
    "        return\n",
    "    H = H*0.001               # [km'] - Geopotential height of the vehicle\n",
    "    Hb_vec = np.array([0, 11, 20, 32, 47, 51, 71, 84.852])\n",
    "    Lmb_vec = np.array([-6.5, 0, 1, 2.8, 0, -2.8, -2, 0])\n",
    "    Tmb_vec = np.array([288.15, 216.65, 216.65, 228.65, 270.65, 270.65, 214.65, 186.946])\n",
    "    pb_vec = np.array([101325, 22632.06, 5474.88, 868.01, 110.90, 66.93, 3.95])\n",
    "    Hb = Hb_vec[b]\n",
    "    Lmb = Lmb_vec[b]\n",
    "    Tmb = Tmb_vec[b]\n",
    "    Pb = pb_vec[b]\n",
    "    return b, Lmb, Tmb, Hb, H, Pb"
   ]
  },
  {
   "cell_type": "markdown",
   "metadata": {},
   "source": [
    "**Calculation of Tmb for layers 0 to 7**\n",
    "\n",
    "The value for layer 0 is expressed right under eq. (23) in the original document, and is: \n",
    "\n",
    "$$ T_{M,0} = To = 288.15K $$ \n",
    "\n",
    "In order to calculate the Tmb values for layers 1 to 7, continuity conditions need to be applied at the boundary layers. This, expressed in an equation format, means the values can be calculated in the following way:\n",
    "\n",
    "$$ T_{M,b} = T_{M,b-1} + L_{M,b-1}*(H_{b}-H_{b-1}) $$\n",
    "\n",
    "**Calculation of Pb for layers 0 to 7**\n",
    "\n",
    "The value for layer 0 is expressed right under eq. (33) in the original document, and is:\n",
    "\n",
    "$$ P_{b} = P_{0} = 101325  N/m^2 $$  \n",
    "\n",
    "In order to calculate the Pb values for layers 1 to 7, continuity conditions need to be applied at the boundary layers. This is slightly more complicated than in the case of Tmb, since the expression for P varies for the different layers.\n",
    "\n",
    "For layers 1, 3, 4, 6 and 7 the expression is:\n",
    "\n",
    "$$ P_{b} = P_{b-1}* \\left[ \\frac {T_{M,b-1}}{T_{M,b-1}+L_{M,b-1}* \\left( H_{b}-H_{b-1} \\right) } \\right]^ {\\left[ \\frac {g_{0}^{'} * M_{0} * 1000}{R^{*}*L_{M,b-1}} \\right]}$$\n",
    "\n",
    "A 1000 has to be added because go' is expressed in (m^2 / s^2 m'), and Lmb is expressed in (K / km').\n",
    "\n",
    "\n",
    "For layers 2 and 5 the expression is:\n",
    "\n",
    "$$ P_{b} = P_{b-1}* exp \\left[ \\frac {-g_{0}^{'}*M_{0}* \\left( H_{b}-H_{b-1} \\right) * 1000}{R^{*}*T_{M,b-1}} \\right] $$\n",
    "\n",
    "A 1000 has to be added because go' is expressed in (m^2 / s^2 m'), and (H-Hb) is expressed in km'.\n",
    "\n",
    "The different constants used are:\n",
    "\n",
    "$$ g_{0}^{'} = 9.80665 \\left[ \\frac {m^2}{s^2m} \\right] $$ - Defined at page 3 of the document.\n",
    "\n",
    "$$ M_{0} = 28.9644 \\left[ \\frac {kg}{kmol} \\right] $$ - Defined at page 9 of the document, under eq. (21).\n",
    "\n",
    "$$ R^{*} = 8.31432*10^{3} \\left[ \\frac {Nm}{kmol.K} \\right] $$ - Defined at page 2 of the document, Table 2. There is a mistake in this number, where it says 10 to the power (-3) instead of 10 to the power (3) as it should."
   ]
  },
  {
   "cell_type": "markdown",
   "metadata": {},
   "source": [
    "**Function #3: tm**\n",
    "\n",
    "The aim of this function is to estimate the Tm value according to equation (23) of the US Standard Atmosphere 1976. This function gives the temperature for the range 0-76km."
   ]
  },
  {
   "cell_type": "code",
   "execution_count": 4,
   "metadata": {},
   "outputs": [],
   "source": [
    "def tm(Tmb,Lmb,H,Hb):\n",
    "    # === INPUTS ===\n",
    "    # Tmb [K]       Temperature constant\n",
    "    # Lmb [K/km']   Molecular-scale temperature gradient\n",
    "    # H [km']       Geopotential height of interest\n",
    "    # Hb [km']      Geopotential Height for the particular layer (Table 4)\n",
    "    # === OUTPUTS === \n",
    "    # Tm [K]     Temperature at given geopotential height H\n",
    "    Tm = Tmb + Lmb*(H-Hb)     #  [K] - Temperature at given geopotential height H\n",
    "    return Tm"
   ]
  },
  {
   "cell_type": "markdown",
   "metadata": {},
   "source": [
    "**Function #4: p**\n",
    "\n",
    "The aim of this function is to estimate the P value according to equation (33a 33b) of the US Standard Atmosphere 1976. This function gives the pressure for the range 0-76km."
   ]
  },
  {
   "cell_type": "code",
   "execution_count": 5,
   "metadata": {},
   "outputs": [],
   "source": [
    "def p(Tmb,Lmb,H,Hb,Pb):\n",
    "    # === INPUTS ===\n",
    "    # Tmb [K]       Temperature constant\n",
    "    # Lmb [K/km']   Molecular-scale temperature gradient\n",
    "    # H [km']      Geopotential height of interest\n",
    "    # Hb [km']      Geopotential Height for the particular layer (Table 4)\n",
    "    # Pb [N/m^2]    Pressure constant\n",
    "    # === OUTPUTS === \n",
    "    # P [N/m^2]     Pressure at given geopotential height H\n",
    "    # === CONSTANTS ===\n",
    "    go = 9.80665                # [m^2/s^2.m] - Gravity @ SL (Page 2)\n",
    "    R = 8.31432 * 10**3         # [Nm / (kmol.K)] - Gas constant (Page 2)\n",
    "    Mo = 28.9644                # [kg/kmol] - Mean Molecular Weight - (Page 9)\n",
    "    if Lmb!=0:\n",
    "        P = Pb*(Tmb / (Tmb + (Lmb*(H-Hb))))**((go*Mo*1000)/(R*Lmb))\n",
    "    elif Lmb==0:\n",
    "        P = Pb*np.exp((-go*Mo*(H-Hb)*1000)/(R*Tmb))\n",
    "    return P"
   ]
  },
  {
   "cell_type": "markdown",
   "metadata": {},
   "source": [
    "**Function #5: rho**\n",
    "\n",
    "The aim of this function is to estimate the density value according to equation (42) of the US Standard Atmosphere 1976. This function provides the density for the range 0-86km."
   ]
  },
  {
   "cell_type": "code",
   "execution_count": 6,
   "metadata": {},
   "outputs": [],
   "source": [
    "def rho(P,Tm):\n",
    "    # === INPUTS ===\n",
    "    # Tm [K]           Temperature at given geopotential height H\n",
    "    # P [N/m^2]        Pressure at given geopotential height H\n",
    "    # === OUTPUTS === \n",
    "    # rho [kg/m^3]     Density at given geopotential height H\n",
    "    # === CONSTANTS ===\n",
    "    R = 8.31432 * 10**3        # [Nm / (kmol.K)] - Gas constant (Page 2)\n",
    "    Mo = 28.9644               # [kg/kmol] - Mean Molecular Weight - (Page 9)\n",
    "    rho = (P*Mo)/(R*Tm)        # [kg/m^3]  - Density (Eq 42)\n",
    "    return rho"
   ]
  },
  {
   "cell_type": "markdown",
   "metadata": {},
   "source": [
    "**Function #6: Vs**\n",
    "\n",
    "The aim of this function is to estimate the speed of sound value according to equation (50) of the US Standard Atmosphere 1976. This function provides the speed of sound for the range 0-86km. It applies only when the sound wave is a small perturbation on the ambient condition."
   ]
  },
  {
   "cell_type": "code",
   "execution_count": 7,
   "metadata": {},
   "outputs": [],
   "source": [
    "def Vs(Tm):\n",
    "    # === INPUTS ===\n",
    "    # Tm [K]          Temperature at given geopotential height H\n",
    "    # === OUTPUTS === \n",
    "    # Vs [m/s]        Speed of sound at given temperature Tm(H)\n",
    "    # === CONSTANTS ===\n",
    "    R = 8.31432 * 10**3         # [Nm / (kmol.K)] - Gas constant (Page 2)\n",
    "    Mo = 28.9644                # [kg/kmol] - Mean Molecular Weight - (Page 9)\n",
    "    gamma = 1.4                 # [adim] - Ratio of Cp/Cv\n",
    "    Vs = ((gamma*R*Tm)/Mo)**0.5 # [m/s] - Local speed of sound\n",
    "    return Vs"
   ]
  },
  {
   "cell_type": "markdown",
   "metadata": {},
   "source": [
    "**Function #7: visc**\n",
    "\n",
    "The aim of this function is to estimate the dynamic and kinematic viscosity according to equations (51) and (52) of the US Standard Atmosphere 1976. This function provides the speed of sound for the range 0-86km.\n",
    "\n",
    "According to p10 of this standard, Tm = T for the 0-80km range. From 80 to 86 the difference is very small. "
   ]
  },
  {
   "cell_type": "code",
   "execution_count": 8,
   "metadata": {},
   "outputs": [],
   "source": [
    "def visc(Tm,rho):\n",
    "    # === INPUTS ===\n",
    "    # Tm [K]          Temperature at given geopotential height Hz    \n",
    "    # rho [km/m^3]    Density at given geopotential height Hz\n",
    "    # === OUTPUTS === \n",
    "    # dvisc [N.s/m^2]              Dynamic Viscosity \n",
    "    # kvisc [m^2/s]                Kinematic Viscosity\n",
    "    # === CONSTANTS ===\n",
    "    beta = 1.458*10**-6         # [kg/s.m.K^0.5] - \"Constant\"\n",
    "    S = 110.4                   # [K] - Sutherland's constant\n",
    "    dvisc = (beta*Tm**1.5)/(Tm+S) # [N.s/m^2] - Dynamic viscosity\n",
    "    kvisc = dvisc/rho           # [m^2/s] - Kinematic Viscosity    \n",
    "    return dvisc, kvisc"
   ]
  },
  {
   "cell_type": "markdown",
   "metadata": {},
   "source": [
    "**Function #8: g**\n",
    "\n",
    "The aim of this function is to estimate the acceleration due to gravity for a given geometric height, according to eq (17) of the US Standard Atmosphere 1976."
   ]
  },
  {
   "cell_type": "code",
   "execution_count": 1,
   "metadata": {},
   "outputs": [],
   "source": [
    "def g(Z):\n",
    "    # === INPUT ===\n",
    "    # Z [m]         Geometric height of interest\n",
    "    # === OUTPUT ===\n",
    "    # g [m/s^2]     Acceleration due to gravity at given Z\n",
    "    # === CONSTANTS === (Page 8 of the Standard)\n",
    "    ro = 6356766    # [m] - Effective radius of the earth at a certain latitude\n",
    "    go = 9.80665    # [m/s^2] - Sea level value of the acceleration of gravity\n",
    "    # Input control\n",
    "    try:\n",
    "        int(Z)\n",
    "    except ValueError:\n",
    "        try:\n",
    "            float(Z)\n",
    "        except ValueError:\n",
    "            print(\"Fn: g. Input must be a number.\")\n",
    "            return\n",
    "    if Z<0:\n",
    "        print('Fn: g. Input must be positive.')\n",
    "        return\n",
    "    g = go * (ro / (ro+Z))**2\n",
    "    return g"
   ]
  }
 ],
 "metadata": {
  "kernelspec": {
   "display_name": "Python 3",
   "language": "python",
   "name": "python3"
  },
  "language_info": {
   "codemirror_mode": {
    "name": "ipython",
    "version": 3
   },
   "file_extension": ".py",
   "mimetype": "text/x-python",
   "name": "python",
   "nbconvert_exporter": "python",
   "pygments_lexer": "ipython3",
   "version": "3.7.6"
  }
 },
 "nbformat": 4,
 "nbformat_minor": 4
}
